{
 "cells": [
  {
   "cell_type": "code",
   "execution_count": 1,
   "metadata": {},
   "outputs": [
    {
     "name": "stderr",
     "output_type": "stream",
     "text": [
      "c:\\Users\\DELL\\anaconda3\\envs\\medic-chatbot\\lib\\site-packages\\pinecone\\data\\index.py:1: TqdmWarning: IProgress not found. Please update jupyter and ipywidgets. See https://ipywidgets.readthedocs.io/en/stable/user_install.html\n",
      "  from tqdm.autonotebook import tqdm\n"
     ]
    }
   ],
   "source": [
    "# Importing required libraries\n",
    "from langchain_pinecone import PineconeVectorStore\n",
    "from langchain.chains import RetrievalQA\n",
    "from langchain.embeddings import HuggingFaceEmbeddings\n",
    "from langchain.document_loaders import PyPDFLoader, DirectoryLoader\n",
    "from langchain.text_splitter import RecursiveCharacterTextSplitter\n",
    "from langchain.prompts import PromptTemplate\n",
    "from langchain.llms import CTransformers\n",
    "import os\n",
    "import torch"
   ]
  },
  {
   "cell_type": "code",
   "execution_count": 2,
   "metadata": {},
   "outputs": [],
   "source": [
    "# Adding api key\n",
    "PINECONE_API_KEY = \"3f0e285f-3731-453e-9c68-d4a4563070b5\"\n",
    "PINECONE_INDEX_NAME = \"medi-chat-2024\""
   ]
  },
  {
   "cell_type": "markdown",
   "metadata": {},
   "source": [
    "### Extract data and create embedding vectors"
   ]
  },
  {
   "cell_type": "code",
   "execution_count": 3,
   "metadata": {},
   "outputs": [],
   "source": [
    "# Creating a loader to load pdf data\n",
    "def load_pdf_data(data_path):\n",
    "    loader = DirectoryLoader(\n",
    "        path=data_path,\n",
    "        glob=\"*.pdf\",\n",
    "        loader_cls=PyPDFLoader,\n",
    "        show_progress=True,\n",
    "        use_multithreading=True\n",
    "    )\n",
    "\n",
    "    docs = loader.load()\n",
    "    return docs"
   ]
  },
  {
   "cell_type": "code",
   "execution_count": 6,
   "metadata": {},
   "outputs": [
    {
     "name": "stderr",
     "output_type": "stream",
     "text": [
      "100%|██████████| 1/1 [00:14<00:00, 14.01s/it]\n"
     ]
    }
   ],
   "source": [
    "pdf_docs = load_pdf_data(\"../data\")"
   ]
  },
  {
   "cell_type": "code",
   "execution_count": 7,
   "metadata": {},
   "outputs": [
    {
     "data": {
      "text/plain": [
       "Document(page_content='The symptoms of CO poisoning in order of increas-\\ning severity include:\\n• headache\\n• shortness of breath\\n• dizziness\\n• fatigue• mental confusion and difficulty thinking\\n• loss of fine hand-eye coordination\\n• nausea and vomiting• rapid heart rate\\n• hallucinations\\n• inability to execute voluntary movements accurately• collapse\\n• lowered body temperature ( hypothermia )\\n• coma• convulsions• seriously low blood pressure\\n• cardiac and respiratory failure\\n• death\\nIn some cases, the skin, mucous membranes, and\\nnails of a person with CO poisoning are cherry red orbright pink. Because the color change doesn’t alwaysoccur, it is an unreliable symptom to rely on for diagnosis.\\nAlthough most CO poisoning is acute, or sudden, it is\\npossible to suffer from chronic CO poisoning. This condi-tion exists when a person is exposed to low levels of the gasover a period of days to months. Symptoms are often vagueand include (in order of frequency) fatigue, headache,dizziness, sleep disturbances, cardiac symptoms, apathy,nausea, and memory disturbances. Little is known aboutchronic CO poisoning, and it is often misdiagnosed.KEY TERMS\\nCarboxyhemoglobin (COHb) —Hemoglobin that\\nis bound to carbon monoxide instead of oxygen.\\nHemoglobin (Hb) —A molecule that normally\\nbinds to oxygen in order to carry it to our cells,where it is required for life.\\nHypothermia —Development of a subnormal body\\ntemperature.\\npH—A measurement of the acidity or alkalinity of\\na fluid. A neutral fluid, neither acid nor alkali, hasa pH of 7.Diagnosis\\nThe main reason to suspect CO poisoning is evidence\\nthat fuel is being burned in a confined area, for example acar running inside a closed garage, a charcoal grill burn-ing indoors, or an unvented kerosene heater in a work-shop. Under these circumstances, one or more personssuffering from the symptoms listed above strongly sug-gests CO poisoning. In the absence of some concrete rea-son to suspect CO poisoning, the disorder is often misdi-agnosed as migraine headache ,stroke , psychiatric ill-\\nness, food poisoning , alcohol poisoning, or heart disease.\\nConcrete confirmation of CO poisoning comes from\\na carboxyhemoglobin test. This blood test measures theamount of CO that is bound to hemoglobin in the body.Blood is drawn as soon after suspected exposure to COas possible.\\nOther tests that are useful in determining the extent\\nof CO poisoning include measurement of other arterialblood gases and pH; a complete blood count ; measure-\\nment of other blood components such as sodium, potassi-um, bicarbonate, urea nitrogen, and lactic acid; an elec-trocardiogram (ECG); and a chest x ray .\\nTreatment\\nImmediate treatment for CO poisoning is to remove\\nthe victim from the source of carbon monoxide gas andget him or her into fresh air. If the victim is not breathingand has no pulse, cardiopulmonary resuscitation\\n(CPR ) should be started. Depending on the severity of\\nthe poisoning, 100% oxygen may be given with a tightfitting mask as soon as it is available.\\nTaken with other symptoms of CO poisoning, COHb\\nlevels of over 25% in healthy individuals, over 15% inpatients with a history of heart or lung disease, and over10% in pregnant women usually indicate the need forhospitalization. In the hospital, fluids and electrolytes aregiven to correct any imbalances that have arisen from thebreakdown of cellular metabolism.\\nIn severe cases of CO poisoning, patients are given\\nhyperbaric oxygen therapy. This treatment involves plac-ing the patient in a chamber breathing 100% oxygen at apressure of more than one atmosphere (the normal pres-sure the atmosphere exerts at sea level). The increasedpressure forces more oxygen into the blood. Hyperbaricfacilities are specialized, and are usually available only atlarger hospitals.\\nPrognosis\\nThe speed and degree of recovery from CO poison-\\ning depends on the length and duration of exposure to\\nGALE ENCYCLOPEDIA OF MEDICINE 2 652Carbon monoxide poisoningGEM -0625 to 1002 - C  10/22/03 6:10 PM  Page 652', metadata={'source': '..\\\\data\\\\medical-book.pdf', 'page': 40})"
      ]
     },
     "execution_count": 7,
     "metadata": {},
     "output_type": "execute_result"
    }
   ],
   "source": [
    "pdf_docs[40]"
   ]
  },
  {
   "cell_type": "code",
   "execution_count": 8,
   "metadata": {},
   "outputs": [],
   "source": [
    "# Splitting the data into chunks\n",
    "def get_text_chunks(data):\n",
    "    # Initialize the text splitter class\n",
    "    extracted_chunks = RecursiveCharacterTextSplitter(\n",
    "        chunk_size=500,\n",
    "        chunk_overlap=30,\n",
    "    )\n",
    "    # Get the split text/chunks using split_documents\n",
    "    doc_split = extracted_chunks.split_documents(data)\n",
    "    return doc_split"
   ]
  },
  {
   "cell_type": "code",
   "execution_count": 9,
   "metadata": {},
   "outputs": [
    {
     "data": {
      "text/plain": [
       "Document(page_content='Volume 5: T-Z ........................................ 3237\\nOrganizations ............................................ 3603\\nGeneral Index ............................................ 3625\\nGALE ENCYCLOPEDIA OF MEDICINE 2 VCONTENTS', metadata={'source': '..\\\\data\\\\medical-book.pdf', 'page': 3})"
      ]
     },
     "execution_count": 9,
     "metadata": {},
     "output_type": "execute_result"
    }
   ],
   "source": [
    "doc_chunks = get_text_chunks(pdf_docs)\n",
    "doc_chunks[14]"
   ]
  },
  {
   "cell_type": "code",
   "execution_count": 10,
   "metadata": {},
   "outputs": [],
   "source": [
    "# Initializing the embedding model\n",
    "def get_hugging_face_embedding():\n",
    "    embedding = HuggingFaceEmbeddings(model_name=\"sentence-transformers/all-MiniLM-L6-v2\")\n",
    "    return embedding"
   ]
  },
  {
   "cell_type": "code",
   "execution_count": 11,
   "metadata": {},
   "outputs": [],
   "source": [
    "minilm_embedding = get_hugging_face_embedding()"
   ]
  },
  {
   "cell_type": "code",
   "execution_count": 12,
   "metadata": {},
   "outputs": [],
   "source": [
    "# Adding pinecone api key to script environment\n",
    "os.environ[\"PINECONE_API_KEY\"] = PINECONE_API_KEY"
   ]
  },
  {
   "cell_type": "code",
   "execution_count": 13,
   "metadata": {},
   "outputs": [],
   "source": [
    "from pinecone.grpc import PineconeGRPC as Pinecone\n",
    "from pinecone import ServerlessSpec\n",
    "\n",
    "pc = Pinecone(api_key=PINECONE_API_KEY)\n",
    "\n",
    "index_name = PINECONE_INDEX_NAME\n",
    "\n",
    "if index_name not in pc.list_indexes().names():\n",
    "    pc.create_index(\n",
    "        name=index_name,\n",
    "        dimension=384,\n",
    "        metric=\"cosine\",\n",
    "        spec=ServerlessSpec(\n",
    "            cloud='aws', \n",
    "            region='us-east-1'\n",
    "        ) \n",
    "    ) \n"
   ]
  },
  {
   "cell_type": "code",
   "execution_count": 14,
   "metadata": {},
   "outputs": [],
   "source": [
    "# Function to create a vector store in pinecone\n",
    "# vectorstore = PineconeVectorStore.from_documents(doc_chunks, embedding=minilm_embedding, index_name=PINECONE_INDEX_NAME)\n",
    "# Getting the vector details\n",
    "def get_pinecone_vectorestore(doc_chunks, embedding, index_name):\n",
    "    vector_details = pc.Index(index_name).describe_index_stats()\n",
    "    print(vector_details)\n",
    "    if vector_details['total_vector_count'] == 0:\n",
    "        vectorstore = PineconeVectorStore.from_documents(doc_chunks, embedding=embedding, index_name=index_name)\n",
    "    else:\n",
    "        vectorstore = PineconeVectorStore(index_name=index_name, embedding=embedding)\n",
    "    return vectorstore"
   ]
  },
  {
   "cell_type": "code",
   "execution_count": 15,
   "metadata": {},
   "outputs": [
    {
     "name": "stdout",
     "output_type": "stream",
     "text": [
      "{'dimension': 384,\n",
      " 'index_fullness': 0.0,\n",
      " 'namespaces': {'': {'vector_count': 8462}},\n",
      " 'total_vector_count': 8462}\n"
     ]
    }
   ],
   "source": [
    "vectorstore = get_pinecone_vectorestore(doc_chunks=doc_chunks, embedding=minilm_embedding, index_name=PINECONE_INDEX_NAME)"
   ]
  },
  {
   "cell_type": "code",
   "execution_count": 16,
   "metadata": {},
   "outputs": [
    {
     "name": "stderr",
     "output_type": "stream",
     "text": [
      "c:\\Users\\DELL\\anaconda3\\envs\\medic-chatbot\\lib\\site-packages\\transformers\\models\\bert\\modeling_bert.py:439: UserWarning: 1Torch was not compiled with flash attention. (Triggered internally at C:\\actions-runner\\_work\\pytorch\\pytorch\\builder\\windows\\pytorch\\aten\\src\\ATen\\native\\transformers\\cuda\\sdp_utils.cpp:455.)\n",
      "  attn_output = torch.nn.functional.scaled_dot_product_attention(\n"
     ]
    },
    {
     "data": {
      "text/plain": [
       "[Document(page_content='Intraocular melanoma is a rare cancer overall, yet it\\nis the most common eye cancer seen in adults. It is whencancer cells are found in the uvea of the eye. The uveaincludes the iris (the colored portion of eye), the ciliarybody (an eye muscle that focuses the lens) and thechoroid (found in the back of the eye next to the retina).Intraocular cancer of the iris usually grows slowly', metadata={'page': 646.0, 'source': 'data\\\\medical-book.pdf'}),\n",
       " Document(page_content='pigment cells (melanocytes).\\n• Sarcomas are cancers of the supporting tissues of the\\nbody, such as bone, muscle and blood vessels.\\n• Cancers of the blood and lymph glands are called\\nleukemias and lymphomas respectively.\\n• Gliomas are cancers of the nerve tissue.\\nCauses and symptoms\\nThe major risk factors for cancer are: tobacco, alco-\\nhol, diet, sexual and reproductive behavior, infectiousagents, family history, occupation, environment and pol-lution.', metadata={'page': 20.0, 'source': 'data\\\\medical-book.pdf'}),\n",
       " Document(page_content='layers of cells covering the body’s surface and lining theinternal organs and various glands). Ninety percent ofhuman cancers fall into this category. Carcinomas can besubdivided into two types: adenocarcinomas and squa-\\nmous cell carcinomas. Adenocarcinomas are cancers thatdevelop in an organ or a gland, while squamous cell car-cinomas refer to cancers that originate in the skin.\\n• Melanomas also originate in the skin, usually in the\\npigment cells (melanocytes).', metadata={'page': 20.0, 'source': 'data\\\\medical-book.pdf'}),\n",
       " Document(page_content='the body because of the danger of destruction of tissue orunacceptable scarring. These areas include: skin thatoverlies nerves, the corners of the eyes, the fold of skinbetween the nose and lip, the skin surrounding the nos-trils, and the border between the lips and the rest of theface. Lesions that are suspected or known to be malig-\\nnant melanoma should not be treated with cryotherapy,', metadata={'page': 350.0, 'source': 'data\\\\medical-book.pdf'})]"
      ]
     },
     "execution_count": 16,
     "metadata": {},
     "output_type": "execute_result"
    }
   ],
   "source": [
    "ex_query = \"What is Melanoma\"\n",
    "similar_search = vectorstore.similarity_search(query=ex_query)\n",
    "similar_search"
   ]
  },
  {
   "cell_type": "code",
   "execution_count": 44,
   "metadata": {},
   "outputs": [],
   "source": [
    "# Adding LLM prompt engineering\n",
    "llm_prompt = \"\"\"You are a knowledgeable assistant. Based on the provided context, provide precise to the point answer.\n",
    "Do not repeat the same line of response if the answer is not known. Just mention that you do not know the answer.\n",
    "Context: {context}\n",
    "Question: {question}\n",
    "Answer:\n",
    "\"\"\"\n"
   ]
  },
  {
   "cell_type": "code",
   "execution_count": 45,
   "metadata": {},
   "outputs": [],
   "source": [
    "# Creating a prompt template\n",
    "prompt_template = PromptTemplate(template=llm_prompt, input_variables=[\"context\", \"question\"])\n",
    "chain_type_kwargs = {\"prompt\": prompt_template}\n"
   ]
  },
  {
   "cell_type": "code",
   "execution_count": 46,
   "metadata": {},
   "outputs": [
    {
     "name": "stdout",
     "output_type": "stream",
     "text": [
      "Model running on cuda\n"
     ]
    }
   ],
   "source": [
    "# Instantiate llama-2 llm model\n",
    "device = 'cuda' if torch.cuda.is_available() else 'cpu'\n",
    "print(f\"Model running on {device}\")\n",
    "llm = CTransformers(model=\"../model\\llama-2-7b-chat.ggmlv3.q4_0.bin\",\n",
    "                    model_type=\"llama\",\n",
    "                    device=device,\n",
    "                    config={'max_new_tokens':200,\n",
    "                            'temperature': 0.3}\n",
    "                    )"
   ]
  },
  {
   "cell_type": "code",
   "execution_count": 47,
   "metadata": {},
   "outputs": [],
   "source": [
    "# Creating question-ans obj\n",
    "qa_obj = RetrievalQA.from_chain_type(\n",
    "    llm=llm,\n",
    "    chain_type=\"stuff\",\n",
    "    retriever=vectorstore.as_retriever(),\n",
    "    return_source_documents=True,\n",
    "    chain_type_kwargs=chain_type_kwargs\n",
    ")"
   ]
  },
  {
   "cell_type": "markdown",
   "metadata": {},
   "source": [
    "#### Was getting several issues with RetrievalQA.from_chain_type retriever. Issue got resolved after upgraded langchain version to 0.1.10 (any version > 0.1.0 will suffice)"
   ]
  },
  {
   "cell_type": "code",
   "execution_count": 48,
   "metadata": {},
   "outputs": [],
   "source": [
    "# Function to print results cleanly (fixing the repeating statement)\n",
    "def print_result(result):\n",
    "    if 'result' in result:\n",
    "        print(\"Result: \", result['result'])\n",
    "    # if 'source_documents' in result:\n",
    "    #     print(\"\\nSource Documents:\")\n",
    "    #     for doc in result['source_documents']:\n",
    "    #         print(f\"- {doc.metadata['source']}\")"
   ]
  },
  {
   "cell_type": "code",
   "execution_count": 49,
   "metadata": {},
   "outputs": [
    {
     "name": "stdout",
     "output_type": "stream",
     "text": [
      "Result:  Breast cancer is a st cancer is a s t cancer is ast cancer is a st cancer is a st cancer is astal mass cancer occurs when we can beast cancer is a s tcancerhaease cancer,  Breast cancer is a st cancer is ast cancer is ast cancer is a s t cancer is a s t cancer is a s t cancer is a s t cancer is ast cancer is ast cancer is aSt Cancerrast cancer is a st cancer is a st cancer is ast cancer is ast cancer is a s t cancer is a s t cancer is a s t cancer is a st cancer is ast cancer is ast cancer is a st cancer is a st cancer is ast cancer is ast cancer,\n",
      "Breast cancer is aSt Cancerrast cancer is ast cancer is ast cancer is a s t cancer is a s t cancer is a st cancer is a s tcancerha\n"
     ]
    }
   ],
   "source": [
    "# Question answring session\n",
    "# while True:\n",
    "user_input = input(\"Ask your query related to general medicine and disease: \")\n",
    "result = qa_obj.invoke({\"query\": user_input})\n",
    "print_result(result)\n",
    "# print(\"Result: \", result['result'])"
   ]
  },
  {
   "cell_type": "code",
   "execution_count": null,
   "metadata": {},
   "outputs": [],
   "source": []
  }
 ],
 "metadata": {
  "kernelspec": {
   "display_name": "medic-chatbot",
   "language": "python",
   "name": "python3"
  },
  "language_info": {
   "codemirror_mode": {
    "name": "ipython",
    "version": 3
   },
   "file_extension": ".py",
   "mimetype": "text/x-python",
   "name": "python",
   "nbconvert_exporter": "python",
   "pygments_lexer": "ipython3",
   "version": "3.8.19"
  }
 },
 "nbformat": 4,
 "nbformat_minor": 2
}
