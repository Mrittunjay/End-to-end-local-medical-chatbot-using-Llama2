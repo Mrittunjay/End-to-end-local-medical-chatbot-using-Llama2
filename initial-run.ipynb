{
 "cells": [
  {
   "cell_type": "code",
   "execution_count": 2,
   "metadata": {},
   "outputs": [],
   "source": [
    "# Importing required libraries\n",
    "from langchain.prompts import PromptTemplate        # Create custom templates for prompting the language model\n",
    "from langchain.chains import RetrievalQA        # Build a retrival based question answering system\n",
    "from langchain.embeddings import HuggingFaceEmbeddings      # Hugging face model to generate text embeddings\n",
    "from langchain.vectorstores import Pinecone     # For storing and retrieving vector embeddings\n",
    "import pinecone     # Initialize and configure pinecone vector database\n",
    "from langchain.document_loaders import PyPDFDirectoryLoader, DirectoryLoader        # Load documents from directories, specially PDF and general files\n",
    "from langchain.text_splitter import RecursiveCharacterTextSplitter      # Splits long texts into smaller chunks recursively for processing\n",
    "from langchain.llms import CTransformers        # Used for model quantization\n"
   ]
  },
  {
   "cell_type": "code",
   "execution_count": null,
   "metadata": {},
   "outputs": [],
   "source": []
  }
 ],
 "metadata": {
  "kernelspec": {
   "display_name": "medic-chatbot",
   "language": "python",
   "name": "python3"
  },
  "language_info": {
   "codemirror_mode": {
    "name": "ipython",
    "version": 3
   },
   "file_extension": ".py",
   "mimetype": "text/x-python",
   "name": "python",
   "nbconvert_exporter": "python",
   "pygments_lexer": "ipython3",
   "version": "3.8.19"
  }
 },
 "nbformat": 4,
 "nbformat_minor": 2
}
