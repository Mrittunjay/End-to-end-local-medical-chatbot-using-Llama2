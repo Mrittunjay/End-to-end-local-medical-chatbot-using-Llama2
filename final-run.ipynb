{
 "cells": [
  {
   "cell_type": "code",
   "execution_count": 1,
   "metadata": {},
   "outputs": [
    {
     "name": "stderr",
     "output_type": "stream",
     "text": [
      "c:\\Users\\DELL\\anaconda3\\envs\\medic-chatbot\\lib\\site-packages\\pinecone\\data\\index.py:1: TqdmWarning: IProgress not found. Please update jupyter and ipywidgets. See https://ipywidgets.readthedocs.io/en/stable/user_install.html\n",
      "  from tqdm.autonotebook import tqdm\n"
     ]
    }
   ],
   "source": [
    "# Importing required libraries\n",
    "from langchain_pinecone import PineconeVectorStore\n",
    "from langchain.chains import RetrievalQA\n",
    "from langchain.embeddings import HuggingFaceEmbeddings\n",
    "from langchain.document_loaders import PyPDFLoader, DirectoryLoader\n",
    "from langchain.text_splitter import RecursiveCharacterTextSplitter\n",
    "from langchain.prompts import PromptTemplate\n",
    "from langchain.llms import CTransformers\n",
    "import os"
   ]
  },
  {
   "cell_type": "code",
   "execution_count": 2,
   "metadata": {},
   "outputs": [],
   "source": [
    "# Adding api key\n",
    "PINECONE_API_KEY = \"48846a07-d3ce-48fb-b187-16360f241270\"   # Not required in latest code\n",
    "PINECONE_INDEX_NAME = \"chatbot-medicine\""
   ]
  },
  {
   "cell_type": "markdown",
   "metadata": {},
   "source": [
    "### Extract data and create embedding vectors"
   ]
  },
  {
   "cell_type": "code",
   "execution_count": 3,
   "metadata": {},
   "outputs": [],
   "source": [
    "# Creating a loader to load pdf data\n",
    "def load_pdf_data(data_path):\n",
    "    loader = DirectoryLoader(\n",
    "        path=data_path,\n",
    "        glob=\"*.pdf\",\n",
    "        loader_cls=PyPDFLoader,\n",
    "        show_progress=True,\n",
    "        use_multithreading=True\n",
    "    )\n",
    "\n",
    "    docs = loader.load()\n",
    "    return docs"
   ]
  },
  {
   "cell_type": "code",
   "execution_count": 4,
   "metadata": {},
   "outputs": [
    {
     "name": "stderr",
     "output_type": "stream",
     "text": [
      "100%|██████████| 1/1 [00:14<00:00, 14.13s/it]\n"
     ]
    }
   ],
   "source": [
    "pdf_docs = load_pdf_data(\"data\")"
   ]
  },
  {
   "cell_type": "code",
   "execution_count": 5,
   "metadata": {},
   "outputs": [
    {
     "data": {
      "text/plain": [
       "Document(page_content='The symptoms of CO poisoning in order of increas-\\ning severity include:\\n• headache\\n• shortness of breath\\n• dizziness\\n• fatigue• mental confusion and difficulty thinking\\n• loss of fine hand-eye coordination\\n• nausea and vomiting• rapid heart rate\\n• hallucinations\\n• inability to execute voluntary movements accurately• collapse\\n• lowered body temperature ( hypothermia )\\n• coma• convulsions• seriously low blood pressure\\n• cardiac and respiratory failure\\n• death\\nIn some cases, the skin, mucous membranes, and\\nnails of a person with CO poisoning are cherry red orbright pink. Because the color change doesn’t alwaysoccur, it is an unreliable symptom to rely on for diagnosis.\\nAlthough most CO poisoning is acute, or sudden, it is\\npossible to suffer from chronic CO poisoning. This condi-tion exists when a person is exposed to low levels of the gasover a period of days to months. Symptoms are often vagueand include (in order of frequency) fatigue, headache,dizziness, sleep disturbances, cardiac symptoms, apathy,nausea, and memory disturbances. Little is known aboutchronic CO poisoning, and it is often misdiagnosed.KEY TERMS\\nCarboxyhemoglobin (COHb) —Hemoglobin that\\nis bound to carbon monoxide instead of oxygen.\\nHemoglobin (Hb) —A molecule that normally\\nbinds to oxygen in order to carry it to our cells,where it is required for life.\\nHypothermia —Development of a subnormal body\\ntemperature.\\npH—A measurement of the acidity or alkalinity of\\na fluid. A neutral fluid, neither acid nor alkali, hasa pH of 7.Diagnosis\\nThe main reason to suspect CO poisoning is evidence\\nthat fuel is being burned in a confined area, for example acar running inside a closed garage, a charcoal grill burn-ing indoors, or an unvented kerosene heater in a work-shop. Under these circumstances, one or more personssuffering from the symptoms listed above strongly sug-gests CO poisoning. In the absence of some concrete rea-son to suspect CO poisoning, the disorder is often misdi-agnosed as migraine headache ,stroke , psychiatric ill-\\nness, food poisoning , alcohol poisoning, or heart disease.\\nConcrete confirmation of CO poisoning comes from\\na carboxyhemoglobin test. This blood test measures theamount of CO that is bound to hemoglobin in the body.Blood is drawn as soon after suspected exposure to COas possible.\\nOther tests that are useful in determining the extent\\nof CO poisoning include measurement of other arterialblood gases and pH; a complete blood count ; measure-\\nment of other blood components such as sodium, potassi-um, bicarbonate, urea nitrogen, and lactic acid; an elec-trocardiogram (ECG); and a chest x ray .\\nTreatment\\nImmediate treatment for CO poisoning is to remove\\nthe victim from the source of carbon monoxide gas andget him or her into fresh air. If the victim is not breathingand has no pulse, cardiopulmonary resuscitation\\n(CPR ) should be started. Depending on the severity of\\nthe poisoning, 100% oxygen may be given with a tightfitting mask as soon as it is available.\\nTaken with other symptoms of CO poisoning, COHb\\nlevels of over 25% in healthy individuals, over 15% inpatients with a history of heart or lung disease, and over10% in pregnant women usually indicate the need forhospitalization. In the hospital, fluids and electrolytes aregiven to correct any imbalances that have arisen from thebreakdown of cellular metabolism.\\nIn severe cases of CO poisoning, patients are given\\nhyperbaric oxygen therapy. This treatment involves plac-ing the patient in a chamber breathing 100% oxygen at apressure of more than one atmosphere (the normal pres-sure the atmosphere exerts at sea level). The increasedpressure forces more oxygen into the blood. Hyperbaricfacilities are specialized, and are usually available only atlarger hospitals.\\nPrognosis\\nThe speed and degree of recovery from CO poison-\\ning depends on the length and duration of exposure to\\nGALE ENCYCLOPEDIA OF MEDICINE 2 652Carbon monoxide poisoningGEM -0625 to 1002 - C  10/22/03 6:10 PM  Page 652', metadata={'source': 'data\\\\medical-book.pdf', 'page': 40})"
      ]
     },
     "execution_count": 5,
     "metadata": {},
     "output_type": "execute_result"
    }
   ],
   "source": [
    "pdf_docs[40]"
   ]
  },
  {
   "cell_type": "code",
   "execution_count": 7,
   "metadata": {},
   "outputs": [],
   "source": [
    "# Splitting the data into chunks\n",
    "def get_text_chunks(data):\n",
    "    # Initialize the text splitter class\n",
    "    extracted_chunks = RecursiveCharacterTextSplitter(\n",
    "        chunk_size=500,\n",
    "        chunk_overlap=20,\n",
    "    )\n",
    "    # Get the split text/chunks using split_documents\n",
    "    doc_split = extracted_chunks.split_documents(data)\n",
    "    return doc_split"
   ]
  },
  {
   "cell_type": "code",
   "execution_count": 8,
   "metadata": {},
   "outputs": [
    {
     "data": {
      "text/plain": [
       "Document(page_content='The Gale Encyclopedia of Medicine 2 is a medical ref-', metadata={'source': 'data\\\\medical-book.pdf', 'page': 4})"
      ]
     },
     "execution_count": 8,
     "metadata": {},
     "output_type": "execute_result"
    }
   ],
   "source": [
    "doc_chunks = get_text_chunks(pdf_docs)\n",
    "doc_chunks[14]"
   ]
  },
  {
   "cell_type": "code",
   "execution_count": 6,
   "metadata": {},
   "outputs": [],
   "source": [
    "# Initializing the embedding model\n",
    "def get_hudding_face_embedding():\n",
    "    embedding = HuggingFaceEmbeddings(model_name=\"sentence-transformers/all-MiniLM-L6-v2\")\n",
    "    return embedding"
   ]
  },
  {
   "cell_type": "code",
   "execution_count": 9,
   "metadata": {},
   "outputs": [],
   "source": [
    "minilm_embedding = get_hudding_face_embedding()"
   ]
  },
  {
   "cell_type": "code",
   "execution_count": 10,
   "metadata": {},
   "outputs": [],
   "source": [
    "# Adding pinecone api key to script environment\n",
    "os.environ[\"PINECONE_API_KEY\"] = PINECONE_API_KEY"
   ]
  },
  {
   "cell_type": "code",
   "execution_count": 12,
   "metadata": {},
   "outputs": [],
   "source": [
    "# Creating a vector store in pinecone\n",
    "vectorstore = PineconeVectorStore.from_documents(doc_chunks, embedding=minilm_embedding, index_name=PINECONE_INDEX_NAME)"
   ]
  },
  {
   "cell_type": "code",
   "execution_count": 14,
   "metadata": {},
   "outputs": [],
   "source": [
    "vectorstore_local = vectorstore"
   ]
  },
  {
   "cell_type": "code",
   "execution_count": 15,
   "metadata": {},
   "outputs": [
    {
     "data": {
      "text/plain": [
       "[Document(page_content='Intraocular melanoma is a rare cancer overall, yet it\\nis the most common eye cancer seen in adults. It is whencancer cells are found in the uvea of the eye. The uveaincludes the iris (the colored portion of eye), the ciliarybody (an eye muscle that focuses the lens) and thechoroid (found in the back of the eye next to the retina).Intraocular cancer of the iris usually grows slowly', metadata={'page': 646.0, 'source': 'data\\\\medical-book.pdf'}),\n",
       " Document(page_content='layers of cells covering the body’s surface and lining theinternal organs and various glands). Ninety percent ofhuman cancers fall into this category. Carcinomas can besubdivided into two types: adenocarcinomas and squa-\\nmous cell carcinomas. Adenocarcinomas are cancers thatdevelop in an organ or a gland, while squamous cell car-cinomas refer to cancers that originate in the skin.\\n• Melanomas also originate in the skin, usually in the\\npigment cells (melanocytes).', metadata={'page': 20.0, 'source': 'data\\\\medical-book.pdf'}),\n",
       " Document(page_content='the body because of the danger of destruction of tissue orunacceptable scarring. These areas include: skin thatoverlies nerves, the corners of the eyes, the fold of skinbetween the nose and lip, the skin surrounding the nos-trils, and the border between the lips and the rest of theface. Lesions that are suspected or known to be malig-\\nnant melanoma should not be treated with cryotherapy,', metadata={'page': 350.0, 'source': 'data\\\\medical-book.pdf'}),\n",
       " Document(page_content='Causes and symptoms\\nGenetics is thought to play a role in eye cancer. In\\nregards to retinoblastoma, it is believed that if a tumordevelops only in one eye then it isn’t hereditary. Howev-er, if a tumor occurs in both eyes then it is hereditary.Those who have hereditary retinoblastoma have a rarerisk of developing a tumor in the brain and should bemonitored on a regular basis.\\nThe cause of intraocular melanoma is still vague.', metadata={'page': 646.0, 'source': 'data\\\\medical-book.pdf'})]"
      ]
     },
     "execution_count": 15,
     "metadata": {},
     "output_type": "execute_result"
    }
   ],
   "source": [
    "ex_query = \"What is melanoma\"\n",
    "similar_search = vectorstore_local.similarity_search(query=ex_query)\n",
    "similar_search"
   ]
  },
  {
   "cell_type": "code",
   "execution_count": 55,
   "metadata": {},
   "outputs": [],
   "source": [
    "# Adding LLM prompt engineering\n",
    "llm_prompt = \"\"\"You are a knowledgeable assistant. Based on the provided context, answer the following question succinctly and clearly:\n",
    "Context: {context}\n",
    "Question: {question}\n",
    "Answer:\n",
    "\"\"\"\n"
   ]
  },
  {
   "cell_type": "code",
   "execution_count": 56,
   "metadata": {},
   "outputs": [],
   "source": [
    "# Creating a prompt template\n",
    "prompt_template = PromptTemplate(template=llm_prompt, input_variables=[\"context\", \"question\"])\n",
    "chain_type_kwargs = {\"prompt\": prompt_template}\n"
   ]
  },
  {
   "cell_type": "code",
   "execution_count": 57,
   "metadata": {},
   "outputs": [],
   "source": [
    "# Instantiate llama-2 llm model\n",
    "llm = CTransformers(model=\"model\\llama-2-7b-chat.ggmlv3.q4_0.bin\",\n",
    "                    model_type=\"llama\",\n",
    "                    config={'max_new_tokens':100,\n",
    "                            'temperature': 0.4}\n",
    "                    )"
   ]
  },
  {
   "cell_type": "code",
   "execution_count": 58,
   "metadata": {},
   "outputs": [],
   "source": [
    "# Creating question-ans obj\n",
    "qa_obj = RetrievalQA.from_chain_type(\n",
    "    llm=llm,\n",
    "    chain_type=\"stuff\",\n",
    "    retriever=vectorstore_local.as_retriever(),\n",
    "    return_source_documents=True,\n",
    "    chain_type_kwargs=chain_type_kwargs\n",
    ")"
   ]
  },
  {
   "cell_type": "markdown",
   "metadata": {},
   "source": [
    "#### Was getting several issues with RetrievalQA.from_chain_type retriever. Issue got resolved after upgraded langchain version to 0.1.10 (any version > 0.1.0 will suffice)"
   ]
  },
  {
   "cell_type": "code",
   "execution_count": 59,
   "metadata": {},
   "outputs": [
    {
     "name": "stdout",
     "output_type": "stream",
     "text": [
      "Result:  Kidney failure is triggered by disease or a hereditary disorder in the kidneys. The four most common causes of chronic kidney failure include diabetes, polycystic kidneyros disease, kidneyroduct disease, kidneyros disease, kidneyros disease, kidneyros disease, kidneyros disease, kidneyros disease, kidneyros disease, kidneyros disease, kidneyros disease, kidneyros disease, kidneyros\n",
      "Query ended good bye !\n"
     ]
    }
   ],
   "source": [
    "# Question answring session\n",
    "try:\n",
    "    while True:\n",
    "        user_input = input(\"Ask your query related to general medicine and disease: \")\n",
    "        result = qa_obj.invoke({\"query\": user_input})\n",
    "        # print(\"Raw_results: \", result)\n",
    "        print(\"Result: \", result['result'])\n",
    "except KeyboardInterrupt:\n",
    "    print(\"Query ended good bye !\")"
   ]
  },
  {
   "cell_type": "code",
   "execution_count": null,
   "metadata": {},
   "outputs": [],
   "source": []
  }
 ],
 "metadata": {
  "kernelspec": {
   "display_name": "medic-chatbot",
   "language": "python",
   "name": "python3"
  },
  "language_info": {
   "codemirror_mode": {
    "name": "ipython",
    "version": 3
   },
   "file_extension": ".py",
   "mimetype": "text/x-python",
   "name": "python",
   "nbconvert_exporter": "python",
   "pygments_lexer": "ipython3",
   "version": "3.8.19"
  }
 },
 "nbformat": 4,
 "nbformat_minor": 2
}
